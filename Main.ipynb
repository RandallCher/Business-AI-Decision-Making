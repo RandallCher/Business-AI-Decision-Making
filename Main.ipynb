{
 "cells": [
  {
   "cell_type": "markdown",
   "metadata": {},
   "source": [
    "# 1. Import Modules"
   ]
  },
  {
   "cell_type": "code",
   "execution_count": 31,
   "metadata": {},
   "outputs": [],
   "source": [
    "import pandas as pd\n",
    "import seaborn as sns\n",
    "import matplotlib.pyplot as plt"
   ]
  },
  {
   "cell_type": "code",
   "execution_count": null,
   "metadata": {},
   "outputs": [
    {
     "name": "stdout",
     "output_type": "stream",
     "text": [
      "                       Name    ID Ticker Exchange\n",
      "0  C. H. Robinson Worldwide  2239   CHRW   NASDAQ\n",
      "1               Kraft Heinz  2161    KHC   NASDAQ\n",
      "2                  Fastenal  2316   FAST   NASDAQ\n",
      "3                    Splunk   237   SPLK   NASDAQ\n",
      "4                    Kroger  1813     KR     NYSE\n",
      "(711, 4)\n"
     ]
    }
   ],
   "source": [
    "df_ticker = pd.read_csv(\"ticker.csv\")\n",
    "print(df_ticker.head()) \n",
    "print(df_ticker.shape)"
   ]
  },
  {
   "cell_type": "code",
   "execution_count": 33,
   "metadata": {},
   "outputs": [
    {
     "name": "stdout",
     "output_type": "stream",
     "text": [
      "     Header                                        Description\n",
      "0      Name                           The name of the company.\n",
      "1        ID               A unique numeric ID for the company.\n",
      "2    Ticker  The ticker symbol for the company's shares on ...\n",
      "3  Exchange  The exchange on which the company's shares are...\n"
     ]
    }
   ],
   "source": [
    "df_ticker_description = pd.read_csv(\"ticker_description.csv\")\n",
    "print(df_ticker_description.head())"
   ]
  },
  {
   "cell_type": "code",
   "execution_count": 34,
   "metadata": {},
   "outputs": [
    {
     "name": "stdout",
     "output_type": "stream",
     "text": [
      "            Name   ID        Country                     Website  \\\n",
      "0  Accenture Plc  803        Ireland  https://www.accenture.com/   \n",
      "1      Cognizant  806  United States   https://www.cognizant.com   \n",
      "2         Amazon   23  United States           http://amazon.com   \n",
      "3            IBM  115  United States         http://www.ibm.com/   \n",
      "4      Microsoft  163  United States    http://www.microsoft.com   \n",
      "\n",
      "                                       Groups         Region   Stage  \\\n",
      "0                                     S&P 500         Europe  Mature   \n",
      "1                                     S&P 500  North America  Mature   \n",
      "2                    S&P 500, Global Big Tech  North America  Mature   \n",
      "3                    S&P 500, Global Big Tech  North America  Mature   \n",
      "4  S&P 500, Global Big Tech, GenAI Contenders  North America  Mature   \n",
      "\n",
      "                   Sector                                        Description  \\\n",
      "0  Software & IT Services  Accenture is a professional services company, ...   \n",
      "1  Software & IT Services  Cognizant is a professional services company, ...   \n",
      "2               Retailers  Amazon is a global tech firm with a focus on e...   \n",
      "3  Software & IT Services  IBM is an IT technology and consulting firm pr...   \n",
      "4  Software & IT Services  Microsoft is a software corporation that devel...   \n",
      "\n",
      "   AI_Publications  ...  Knowledge_Representation  Language_Processing  \\\n",
      "0              208  ...                       102                   33   \n",
      "1              209  ...                        12                    1   \n",
      "2             3313  ...                       135                   23   \n",
      "3             7428  ...                      1753                  386   \n",
      "4             9807  ...                       468                  214   \n",
      "\n",
      "   Measuring_n_Testing  Planning_n_Scheduling  Robotics  Speech_Processing  \\\n",
      "0                   13                    129         0                 23   \n",
      "1                    0                      7         0                  5   \n",
      "2                  179                    131         9                265   \n",
      "3                  296                    828         4                471   \n",
      "4                   61                    550         0                365   \n",
      "\n",
      "   Workforce_AI_workers  Workforce_Tech_Team_Workers     City  State/province  \n",
      "0                 13610                       166212   Dublin          Dublin  \n",
      "1                  5226                       130530  Teaneck      New Jersey  \n",
      "2                 14164                       128591  Seattle      Washington  \n",
      "3                  6114                       117521   Armonk        New York  \n",
      "4                  5245                       104414  Redmond      Washington  \n",
      "\n",
      "[5 rows x 56 columns]\n",
      "(678, 56)\n"
     ]
    }
   ],
   "source": [
    "df_core = pd.read_csv(\"core.csv\")\n",
    "print(df_core.head())\n",
    "print(df_core.shape)"
   ]
  },
  {
   "cell_type": "code",
   "execution_count": 35,
   "metadata": {},
   "outputs": [
    {
     "name": "stdout",
     "output_type": "stream",
     "text": [
      "  Variable Name                                        Description\n",
      "0          Name                 The canonical name of the company.\n",
      "1            ID               A unique numeric ID for the company.\n",
      "2       Country  The country where the company's headquarters i...\n",
      "3       Website                            The company's homepage.\n",
      "4        Groups          Thematic groups that include the company.\n"
     ]
    }
   ],
   "source": [
    "df_core_description = pd.read_csv(\"core_description.csv\")\n",
    "print(df_core_description.head())"
   ]
  },
  {
   "cell_type": "markdown",
   "metadata": {},
   "source": [
    "# 2. Summarise and report AI growth for companies listed in different stock exchanges"
   ]
  },
  {
   "cell_type": "markdown",
   "metadata": {},
   "source": [
    "An initial look through the ticker csv, we can see that a company can be listed under multiple stock exchanges"
   ]
  },
  {
   "cell_type": "code",
   "execution_count": 36,
   "metadata": {},
   "outputs": [
    {
     "name": "stdout",
     "output_type": "stream",
     "text": [
      "                       Name    ID Ticker Exchange\n",
      "0  C. H. Robinson Worldwide  2239   CHRW   NASDAQ\n",
      "1               Kraft Heinz  2161    KHC   NASDAQ\n",
      "2                  Fastenal  2316   FAST   NASDAQ\n",
      "3                    Splunk   237   SPLK   NASDAQ\n",
      "4                    Kroger  1813     KR     NYSE\n",
      "(594, 4)\n"
     ]
    }
   ],
   "source": [
    "# We first sort by different stock exchanges\n",
    "\n",
    "\n",
    "# Get unique Name and Exchange pairs from df_ticker\n",
    "df_unique_listings = df_ticker.drop_duplicates(subset=[\"Name\", \"Exchange\"])\n",
    "\n",
    "\n",
    "\n",
    "print(df_unique_listings.head())\n",
    "print(df_unique_listings.shape)"
   ]
  },
  {
   "cell_type": "code",
   "execution_count": 37,
   "metadata": {},
   "outputs": [
    {
     "name": "stdout",
     "output_type": "stream",
     "text": [
      "Exchange\n",
      "NYSE      408\n",
      "NASDAQ    166\n",
      "HKG        14\n",
      "SSE         3\n",
      "SZSE        3\n",
      "Name: count, dtype: int64\n"
     ]
    }
   ],
   "source": [
    "# Number of companies per Exchange\n",
    "company_count = df_unique_listings['Exchange'].value_counts()\n",
    "print(company_count)"
   ]
  },
  {
   "cell_type": "code",
   "execution_count": 38,
   "metadata": {},
   "outputs": [
    {
     "name": "stdout",
     "output_type": "stream",
     "text": [
      "                       Name  ID_x Ticker Exchange    ID_y        Country  \\\n",
      "0  C. H. Robinson Worldwide  2239   CHRW   NASDAQ  2239.0  United States   \n",
      "1               Kraft Heinz  2161    KHC   NASDAQ  2161.0  United States   \n",
      "2                  Fastenal  2316   FAST   NASDAQ  2316.0  United States   \n",
      "3                    Splunk   237   SPLK   NASDAQ   237.0  United States   \n",
      "4                    Kroger  1813     KR     NYSE  1813.0  United States   \n",
      "\n",
      "                              Website   Groups         Region   Stage  ...  \\\n",
      "0         https://www.chrobinson.com/  S&P 500  North America  Mature  ...   \n",
      "1  https://www.kraftheinzcompany.com/  S&P 500  North America  Mature  ...   \n",
      "2           https://www.fastenal.com/  S&P 500  North America  Mature  ...   \n",
      "3              https://www.splunk.com      NaN  North America  Mature  ...   \n",
      "4             https://www.kroger.com/  S&P 500  North America  Mature  ...   \n",
      "\n",
      "  Knowledge_Representation Language_Processing  Measuring_n_Testing  \\\n",
      "0                      0.0                 0.0                  0.0   \n",
      "1                      2.0                 0.0                  0.0   \n",
      "2                      0.0                 0.0                  0.0   \n",
      "3                      0.0                 0.0                  0.0   \n",
      "4                      0.0                 0.0                  0.0   \n",
      "\n",
      "   Planning_n_Scheduling  Robotics  Speech_Processing  Workforce_AI_workers  \\\n",
      "0                    0.0       0.0                0.0                 116.0   \n",
      "1                    0.0       0.0                0.0                 129.0   \n",
      "2                    0.0       0.0                0.0                  16.0   \n",
      "3                    0.0       0.0                0.0                 108.0   \n",
      "4                    0.0       0.0                0.0                 130.0   \n",
      "\n",
      "   Workforce_Tech_Team_Workers           City  State/province  \n",
      "0                        849.0   Eden Prairie       Minnesota  \n",
      "1                        357.0        Chicago        Illinois  \n",
      "2                        237.0         Winona       Minnesota  \n",
      "3                       2293.0  San Francisco      California  \n",
      "4                       1144.0     Cincinnati            Ohio  \n",
      "\n",
      "[5 rows x 59 columns]\n",
      "(594, 59)\n"
     ]
    }
   ],
   "source": [
    "# Combine df_unique_listings with Columns regarding to AI metrics where name matches in df_core\n",
    "\n",
    "ai_metrics = [\"AI_Publications\", \"AI_Growth\", \"Total_Publications\", \"AI patents\", \n",
    "              \"Patents_Growth\", \"Granted_AI_patents\"]\n",
    "\n",
    "df_unique_listings = df_unique_listings.merge(df_core, on=\"Name\", how=\"left\")\n",
    "\n",
    "print(df_unique_listings.head())\n",
    "print(df_unique_listings.shape)"
   ]
  },
  {
   "cell_type": "code",
   "execution_count": 39,
   "metadata": {},
   "outputs": [
    {
     "name": "stdout",
     "output_type": "stream",
     "text": [
      "  Exchange  AI_Growth\n",
      "2     NYSE   2.459936\n",
      "1   NASDAQ  23.437227\n",
      "4     SZSE  39.623173\n",
      "0      HKG  62.188675\n",
      "3      SSE  82.986111\n"
     ]
    }
   ],
   "source": [
    "# We get the average AI_Growth grouped by Exchange name\n",
    "summary = df_unique_listings.groupby('Exchange')['AI_Growth'].mean().reset_index()\n",
    "summary = summary.sort_values('AI_Growth')\n",
    "print(summary)\n",
    "\n",
    "\n"
   ]
  },
  {
   "cell_type": "code",
   "execution_count": 40,
   "metadata": {},
   "outputs": [
    {
     "data": {
      "image/png": "[encoded data removed]",
      "text/plain": [
       "<Figure size 1000x500 with 1 Axes>"
      ]
     },
     "metadata": {},
     "output_type": "display_data"
    }
   ],
   "source": [
    "\n",
    "summary['AI_Growth'].sort_values().plot(kind='barh', figsize=(10, 5), title=\"Average AI Growth by Exchange\")\n",
    "plt.xlabel(\"AI Growth\")\n",
    "plt.ylabel(\"Stock Exchange\")\n",
    "plt.yticks(ticks=range(len(summary)), labels=summary['Exchange'], fontsize=10)\n",
    "plt.show()"
   ]
  },
  {
   "cell_type": "markdown",
   "metadata": {},
   "source": [
    "Despite NYSE having the highest number of companies listed (408), with a total count significantly larger than other exchanges, the average AI growth for companies listed on NYSE is the lowest at 2.46%\n",
    "\n",
    "NASDAQ exchange, with 166 companies listed, exhibits a stronger AI growth rate of 23.44%\n",
    "\n",
    "HKG has the third highest AI growth rate of 62.19% with only 14 companies making it less reliable.\n",
    "\n",
    "SZSE and SSE although they have high AI growth rate at 39.62% and 82.99% respectively, they are only represented by only 3 companies each, making it not reliable due to low sample size."
   ]
  },
  {
   "cell_type": "markdown",
   "metadata": {},
   "source": [
    "# 3. Further analysis"
   ]
  },
  {
   "cell_type": "code",
   "execution_count": 41,
   "metadata": {},
   "outputs": [
    {
     "name": "stdout",
     "output_type": "stream",
     "text": [
      "  Exchange         min         max\n",
      "0      HKG  -25.000000  263.958333\n",
      "1   NASDAQ -100.000000  508.333333\n",
      "2     NYSE -100.000000  650.740741\n",
      "3      SSE  -16.666667  263.958333\n",
      "4     SZSE   30.532365   51.143791\n"
     ]
    }
   ],
   "source": [
    "exchange_ai_growth = df_unique_listings.groupby('Exchange')['AI_Growth']\n",
    "ai_growth_extremes = exchange_ai_growth.agg(['min', 'max']).reset_index()\n",
    "\n",
    "print(ai_growth_extremes)"
   ]
  },
  {
   "cell_type": "markdown",
   "metadata": {},
   "source": [
    "Upon further analysis of the extreme bounds, it can be seen that there are companies that completely abandon AI, where -100 can be seen "
   ]
  },
  {
   "cell_type": "code",
   "execution_count": 42,
   "metadata": {},
   "outputs": [
    {
     "name": "stdout",
     "output_type": "stream",
     "text": [
      "  Exchange        min         max  count\n",
      "0      HKG  18.074120   67.608796     10\n",
      "1   NASDAQ -66.666667  128.888889     59\n",
      "2     NYSE -75.000000  150.000000    122\n",
      "3      SSE -16.666667  263.958333      3\n",
      "4     SZSE  30.532365   51.143791      3\n"
     ]
    }
   ],
   "source": [
    "# Define a function to remove outliers per group\n",
    "def remove_outliers(group):\n",
    "    \"\"\"\n",
    "        Removes outliers from a group based on the Interquartile Range (IQR) method by filtering values that lie outside 1.5 times the IQR below Q1 or above Q3.\n",
    "    \"\"\"\n",
    "    Q1 = group.quantile(0.25)\n",
    "    Q3 = group.quantile(0.75)\n",
    "    IQR = Q3 - Q1\n",
    "    lower_bound = Q1 - 1.5 * IQR\n",
    "    upper_bound = Q3 + 1.5 * IQR\n",
    "    return group[(group >= lower_bound) & (group <= upper_bound)]\n",
    "\n",
    "# Remove outliers from AI_Growth within each Exchange and those that completely abandon AI\n",
    "\n",
    "df_filtered = df_unique_listings[df_unique_listings[\"AI_Growth\"] > -100]  # First remove the abandoned AI (-100)\n",
    "df_filtered.loc[:, \"AI_Growth\"] = df_filtered.groupby(\"Exchange\")[\"AI_Growth\"].transform(remove_outliers)\n",
    "\n",
    "\n",
    "\n",
    "# print(df_filtered.head())\n",
    "\n",
    "\n",
    "# min and max AI_Growth after outlier removal\n",
    "ai_growth_extremes_filtered = df_filtered.groupby('Exchange')['AI_Growth'].agg(['min', 'max', 'count']).reset_index()\n",
    "print(ai_growth_extremes_filtered)"
   ]
  },
  {
   "cell_type": "code",
   "execution_count": 43,
   "metadata": {},
   "outputs": [
    {
     "name": "stdout",
     "output_type": "stream",
     "text": [
      "Summary of Average AI Growth by Exchange:\n",
      "  Exchange  AI_Growth\n",
      "2     NYSE  27.762124\n",
      "1   NASDAQ  28.346513\n",
      "4     SZSE  39.623173\n",
      "0      HKG  46.486481\n",
      "3      SSE  82.986111\n"
     ]
    }
   ],
   "source": [
    "summary = df_filtered.groupby('Exchange')['AI_Growth'].mean().reset_index()\n",
    "\n",
    "# 6. Sort the summary by average AI_Growth\n",
    "summary = summary.sort_values('AI_Growth')\n",
    "\n",
    "print(\"Summary of Average AI Growth by Exchange:\")\n",
    "print(summary)"
   ]
  },
  {
   "cell_type": "code",
   "execution_count": 44,
   "metadata": {},
   "outputs": [
    {
     "data": {
      "image/png": "[encoded data removed]",
      "text/plain": [
       "<Figure size 1000x500 with 1 Axes>"
      ]
     },
     "metadata": {},
     "output_type": "display_data"
    }
   ],
   "source": [
    "summary['AI_Growth'].sort_values().plot(kind='barh', figsize=(10, 5), title=\"Average AI Growth by Exchange\")\n",
    "plt.xlabel(\"AI Growth\")\n",
    "plt.ylabel(\"Stock Exchange\")\n",
    "plt.yticks(ticks=range(len(summary)), labels=summary['Exchange'], fontsize=10)\n",
    "plt.show()"
   ]
  },
  {
   "cell_type": "markdown",
   "metadata": {},
   "source": [
    "By applying outlier removel, we provides a more accurate and reliable view of AI growth across exchanges.\n",
    "\n",
    "NASDAQ and NYSE, with 59 and 122 companies represented respectively, have growth rates of 28.35% and 27.76%. The similarities in these rates may reflect the broader adoption of AI across companies listed on these exchanges.\n",
    "\n",
    "However, exchanges like HKG, SSE, and SZSE, which have fewer than 10 companies represented, may not provide reliable insights due to the limited sample size, making them less reliable as indicators of broader trends"
   ]
  }
 ],
 "metadata": {
  "kernelspec": {
   "display_name": "Python 3",
   "language": "python",
   "name": "python3"
  },
  "language_info": {
   "codemirror_mode": {
    "name": "ipython",
    "version": 3
   },
   "file_extension": ".py",
   "mimetype": "text/x-python",
   "name": "python",
   "nbconvert_exporter": "python",
   "pygments_lexer": "ipython3",
   "version": "3.11.0"
  }
 },
 "nbformat": 4,
 "nbformat_minor": 2
}
